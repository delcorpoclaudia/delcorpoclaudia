{
  "nbformat": 4,
  "nbformat_minor": 0,
  "metadata": {
    "colab": {
      "provenance": [],
      "authorship_tag": "ABX9TyP0VuPyy2sL57yZW6Siekjg",
      "include_colab_link": true
    },
    "kernelspec": {
      "name": "python3",
      "display_name": "Python 3"
    },
    "language_info": {
      "name": "python"
    }
  },
  "cells": [
    {
      "cell_type": "markdown",
      "metadata": {
        "id": "view-in-github",
        "colab_type": "text"
      },
      "source": [
        "<a href=\"https://colab.research.google.com/github/delcorpoclaudia/delcorpoclaudia/blob/main/mlp.ipynb\" target=\"_parent\"><img src=\"https://colab.research.google.com/assets/colab-badge.svg\" alt=\"Open In Colab\"/></a>"
      ]
    },
    {
      "cell_type": "code",
      "execution_count": 6,
      "metadata": {
        "id": "_smakZ3CSWJT",
        "colab": {
          "base_uri": "https://localhost:8080/"
        },
        "outputId": "d671cc7f-4321-4cb1-a1bb-0f2ed054c65c"
      },
      "outputs": [
        {
          "output_type": "stream",
          "name": "stdout",
          "text": [
            "MLP 0.9714285714285715 0.9800000000000001\n"
          ]
        }
      ],
      "source": [
        "from sklearn.datasets import load_iris\n",
        "from sklearn.model_selection import train_test_split\n",
        "from sklearn.metrics import accuracy_score\n",
        "\n",
        "import sklearn.neural_network\n",
        "iris = load_iris()\n",
        "X = iris.data\n",
        "y = iris.target\n",
        "tvacc = 0\n",
        "ttacc = 0\n",
        "# Create an instance of the SVC class\n",
        "for n in range(10):\n",
        "  X_dev, X_test, y_dev, y_test = train_test_split(X,y, test_size = 0.10)\n",
        "  X_train, X_val, y_train, y_val = train_test_split(X_dev,y_dev, test_size = 0.10)\n",
        "  model = sklearn.neural_network.MLPClassifier(hidden_layer_sizes=(10,10), activation = \"tanh\", max_iter = 2000)\n",
        "\n",
        "  model.fit(X_train, y_train)\n",
        "  y_pred = model.predict(X_val)\n",
        "  accuracy = accuracy_score(y_val, y_pred)\n",
        "  tvacc += accuracy\n",
        "\n",
        "  y_pred = model.predict(X_test)\n",
        "  accuracy = accuracy_score(y_test, y_pred)\n",
        "  ttacc += accuracy\n",
        "print(\"MLP\", tvacc/10, ttacc/10)"
      ]
    },
    {
      "cell_type": "code",
      "source": [],
      "metadata": {
        "id": "LsYLzqfpdWRS"
      },
      "execution_count": null,
      "outputs": []
    }
  ]
}